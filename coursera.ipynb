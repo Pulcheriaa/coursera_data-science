{
 "cells": [
  {
   "cell_type": "markdown",
   "id": "8e3f8e99",
   "metadata": {},
   "source": [
    "# Data Science Tools and Ecosystem"
   ]
  },
  {
   "cell_type": "markdown",
   "id": "ab8067d6",
   "metadata": {},
   "source": [
    "## Introduction\n",
    "In this notebook, we will explore some of the most commonly used tools, libraries, and languages in data science. We will also perform a few basic arithmetic operations to demonstrate Python's capabilities."
   ]
  },
  {
   "cell_type": "markdown",
   "id": "f9ebf368",
   "metadata": {},
   "source": [
    "## Data Science Languages\n",
    "Some of the popular languages that Data Scientists use are:\n",
    "- Python\n",
    "- R\n",
    "- SQL\n",
    "- Julia\n",
    "- Scala"
   ]
  },
  {
   "cell_type": "markdown",
   "id": "e09b486c",
   "metadata": {},
   "source": [
    "## Data Science Libraries\n",
    "Some of the commonly used libraries used by Data Scientists include:\n",
    "- Pandas\n",
    "- NumPy\n",
    "- Matplotlib\n",
    "- Scikit-learn\n",
    "- TensorFlow"
   ]
  },
  {
   "cell_type": "markdown",
   "id": "9706f310",
   "metadata": {},
   "source": [
    "## Data Science Tools\n",
    "\n",
    "| Tool            | Description                          |\n",
    "|-----------------|--------------------------------------|\n",
    "| Jupyter Notebook| Interactive notebook for coding      |\n",
    "| RStudio         | IDE for R programming                |\n",
    "| Apache Spark    | Big data processing engine           |\n",
    "| TensorFlow      | Machine learning framework           |\n",
    "| RapidMiner      | Data science platform                |"
   ]
  },
  {
   "cell_type": "code",
   "execution_count": 2,
   "id": "fc789e30",
   "metadata": {},
   "outputs": [
    {
     "data": {
      "text/plain": [
       "17"
      ]
     },
     "execution_count": 2,
     "metadata": {},
     "output_type": "execute_result"
    }
   ],
   "source": [
    "# This is a simple arithmetic expression to multiply then add numbers\n",
    "(3 * 4) + 5"
   ]
  },
  {
   "cell_type": "code",
   "execution_count": 3,
   "id": "d4a615c1",
   "metadata": {},
   "outputs": [
    {
     "data": {
      "text/plain": [
       "3.3333333333333335"
      ]
     },
     "execution_count": 3,
     "metadata": {},
     "output_type": "execute_result"
    }
   ],
   "source": [
    "# This will convert 200 minutes to hours\n",
    "minutes = 200\n",
    "hours = minutes / 60\n",
    "hours"
   ]
  },
  {
   "cell_type": "markdown",
   "id": "838c2808",
   "metadata": {},
   "source": [
    "## Objectives\n",
    "- Understand basic markdown syntax\n",
    "- List commonly used data science languages and libraries\n",
    "- Demonstrate simple arithmetic expressions using Python\n",
    "- Convert units using Python code"
   ]
  },
  {
   "cell_type": "markdown",
   "id": "4f3b0973",
   "metadata": {},
   "source": [
    "## Author\n",
    "Shenazy Salim"
   ]
  }
 ],
 "metadata": {
  "kernelspec": {
   "display_name": "Python 3 (ipykernel)",
   "language": "python",
   "name": "python3"
  },
  "language_info": {
   "codemirror_mode": {
    "name": "ipython",
    "version": 3
   },
   "file_extension": ".py",
   "mimetype": "text/x-python",
   "name": "python",
   "nbconvert_exporter": "python",
   "pygments_lexer": "ipython3",
   "version": "3.11.5"
  }
 },
 "nbformat": 4,
 "nbformat_minor": 5
}
